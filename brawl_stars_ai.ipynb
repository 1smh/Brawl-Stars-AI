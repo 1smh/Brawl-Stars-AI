{
  "nbformat": 4,
  "nbformat_minor": 0,
  "metadata": {
    "colab": {
      "provenance": [],
      "gpuType": "T4"
    },
    "kernelspec": {
      "name": "python3",
      "display_name": "Python 3"
    },
    "language_info": {
      "name": "python"
    },
    "accelerator": "GPU"
  },
  "cells": [
    {
      "cell_type": "code",
      "execution_count": null,
      "metadata": {
        "id": "O2PWiMdFYFrw"
      },
      "outputs": [],
      "source": [
        "import requests\n",
        "import ast\n",
        "import pandas as pd\n",
        "from sklearn.model_selection import train_test_split\n",
        "import joblib\n",
        "from google.colab import files\n",
        "from sklearn.metrics import mean_squared_error\n",
        "from sklearn.metrics import mean_absolute_percentage_error\n",
        "from sklearn.tree import DecisionTreeRegressor"
      ]
    },
    {
      "cell_type": "code",
      "source": [
        "from google.colab import drive\n",
        "drive.mount('/content/drive')"
      ],
      "metadata": {
        "id": "koy01W0MsBuR"
      },
      "execution_count": null,
      "outputs": []
    },
    {
      "cell_type": "code",
      "source": [
        "df = pd.read_csv('/content/drive/MyDrive/player_metadata.csv')"
      ],
      "metadata": {
        "id": "nuBZvNokvub1"
      },
      "execution_count": null,
      "outputs": []
    },
    {
      "cell_type": "code",
      "source": [
        "df"
      ],
      "metadata": {
        "id": "j3Sf8Vyvg_bR"
      },
      "execution_count": null,
      "outputs": []
    },
    {
      "cell_type": "code",
      "source": [
        "Xf = df['expLevel']"
      ],
      "metadata": {
        "id": "v1bTzKcRhn1J"
      },
      "execution_count": null,
      "outputs": []
    },
    {
      "cell_type": "code",
      "source": [
        "Ytemp = df['brawlers']\n",
        "Ytemp"
      ],
      "metadata": {
        "id": "XumTEN2sh1l9"
      },
      "execution_count": null,
      "outputs": []
    },
    {
      "cell_type": "code",
      "source": [
        "Yresult = []\n",
        "for i in range(len(Xf)):\n",
        "    try:\n",
        "        variable = Ytemp[i]\n",
        "\n",
        "        start = variable.find(\"[\")\n",
        "        end = variable.rfind(\"]\") + 1\n",
        "\n",
        "        brawlers_data = variable[start:end]\n",
        "\n",
        "\n",
        "        brawlers_list = ast.literal_eval(brawlers_data)\n",
        "\n",
        "        power_11_count = sum(1 for brawler in brawlers_list if brawler.get('power') == 11)\n",
        "        power_11_score = power_11_count / 65\n",
        "\n",
        "        Yresult.append(power_11_score)\n",
        "\n",
        "    except (SyntaxError, ValueError, Exception) as e:\n",
        "        print(f\"Error processing index {i}: {e}\")\n",
        "        Yresult.append(0)\n",
        "\n",
        "print(Yresult)"
      ],
      "metadata": {
        "id": "ELUo5XCJpDFv"
      },
      "execution_count": null,
      "outputs": []
    },
    {
      "cell_type": "code",
      "source": [
        "Yresults = pd.DataFrame(Yresult, columns = ['Power 11 Score'])\n",
        "Yresults"
      ],
      "metadata": {
        "id": "GWtxARWWyOpR"
      },
      "execution_count": null,
      "outputs": []
    },
    {
      "cell_type": "code",
      "source": [
        "X = [Xf, Yresults]"
      ],
      "metadata": {
        "id": "8j_HSiDEqNM4"
      },
      "execution_count": null,
      "outputs": []
    },
    {
      "cell_type": "code",
      "source": [
        "y = df['trophies']"
      ],
      "metadata": {
        "id": "6XDlbnuevUwP"
      },
      "execution_count": null,
      "outputs": []
    },
    {
      "cell_type": "code",
      "source": [
        "X = pd.concat([Xf, Yresults], axis=1)"
      ],
      "metadata": {
        "id": "8i2KNAUhzlg2"
      },
      "execution_count": null,
      "outputs": []
    },
    {
      "cell_type": "code",
      "source": [
        "X_train, X_test, y_train, y_test = train_test_split(X, y, test_size=0.2, random_state=42)"
      ],
      "metadata": {
        "id": "PSOpT-RQym2P"
      },
      "execution_count": null,
      "outputs": []
    },
    {
      "cell_type": "code",
      "source": [
        "tree = DecisionTreeRegressor(random_state=42)\n",
        "tree.fit(X_train, y_train)\n",
        "\n",
        "y_pred = tree.predict(X_test)"
      ],
      "metadata": {
        "id": "dvUAaHTizox_"
      },
      "execution_count": null,
      "outputs": []
    },
    {
      "cell_type": "code",
      "source": [
        "mape = mean_absolute_percentage_error(y_test, y_pred) * 100\n",
        "\n",
        "print(f'Mean Absolute Percentage Error: {mape}%')"
      ],
      "metadata": {
        "id": "_IBKfh2WzwdH"
      },
      "execution_count": null,
      "outputs": []
    },
    {
      "cell_type": "code",
      "source": [
        "new_data = pd.DataFrame([[198, 1]], columns=['expLevel', 'Power 11 Score'])\n",
        "prediction = tree.predict(new_data)\n",
        "\n",
        "print(f'Predicted number of trophies: {prediction[0]}')"
      ],
      "metadata": {
        "id": "o6RuR75x9ldn"
      },
      "execution_count": null,
      "outputs": []
    },
    {
      "cell_type": "code",
      "source": [
        "joblib.dump(tree, 'model.pkl')"
      ],
      "metadata": {
        "id": "U6wNx6rWOSkG"
      },
      "execution_count": null,
      "outputs": []
    },
    {
      "cell_type": "code",
      "source": [
        "files.download('model.pkl')"
      ],
      "metadata": {
        "id": "axVh_aBIOgqu"
      },
      "execution_count": null,
      "outputs": []
    }
  ]
}